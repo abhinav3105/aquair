{
 "cells": [
  {
   "cell_type": "code",
   "execution_count": 1,
   "id": "e8766e81",
   "metadata": {},
   "outputs": [
    {
     "name": "stdout",
     "output_type": "stream",
     "text": [
      " * Serving Flask app '__main__'\n",
      " * Debug mode: off\n"
     ]
    },
    {
     "name": "stderr",
     "output_type": "stream",
     "text": [
      "WARNING: This is a development server. Do not use it in a production deployment. Use a production WSGI server instead.\n",
      " * Running on http://127.0.0.1:5000\n",
      "Press CTRL+C to quit\n",
      "127.0.0.1 - - [28/Nov/2023 18:47:27] \"GET / HTTP/1.1\" 200 -\n",
      "127.0.0.1 - - [28/Nov/2023 18:47:27] \"GET /script.js HTTP/1.1\" 404 -\n",
      "127.0.0.1 - - [28/Nov/2023 18:47:27] \"GET /static/style.css HTTP/1.1\" 200 -\n",
      "127.0.0.1 - - [28/Nov/2023 18:47:27] \"GET /static/air.jpg HTTP/1.1\" 200 -\n",
      "127.0.0.1 - - [28/Nov/2023 18:47:27] \"GET /static/back.png HTTP/1.1\" 200 -\n",
      "127.0.0.1 - - [28/Nov/2023 18:47:27] \"GET /static/pexels-oleksandr-p-345522.jpg HTTP/1.1\" 200 -\n"
     ]
    }
   ],
   "source": [
    "from flask import Flask,request, url_for, redirect, render_template\n",
    "import pickle\n",
    "import numpy as np\n",
    "import pandas as pd\n",
    "import colorama\n",
    "app = Flask(__name__)\n",
    "\n",
    "model=pickle.load(open('model.pkl','rb'))\n",
    "\n",
    "\n",
    "@app.route('/')\n",
    "def index():\n",
    "    return render_template(\"indext.html\")\n",
    "\n",
    "\n",
    "@app.route('/predict',methods=['POST'])\n",
    "def predict():\n",
    "    so2 = float(request.form['so2'])\n",
    "    no2 = float(request.form['no2'])\n",
    "    rspm = float(request.form['rspm'])\n",
    "    spm = float(request.form['spm'])\n",
    "    input_data = [[so2,no2,rspm,spm]]\n",
    "    prediction = model.predict(input_data)[0]\n",
    "\n",
    "    df = pd.DataFrame({'name': ['so2', 'no2', 'rspm', 'spm'],\n",
    "                   'age': [so2, no2, rspm, spm]})\n",
    "\n",
    "\n",
    "    largest_value = df['age'].max()\n",
    "\n",
    "\n",
    "    index_of_largest_value = df['age'].idxmax()\n",
    "\n",
    "\n",
    "    largest_value_name = df.loc[index_of_largest_value, 'name']\n",
    "    z = largest_value_name\n",
    "\n",
    "\n",
    "    if prediction<=50:\n",
    "        return render_template('indext.html',pred='Air quality is excellent. \\n There are usually no health concerns .\\n All components of AQI are Good. \\n  Your aqi is {}'.format(prediction))\n",
    "    elif prediction>50 and prediction<=100:\n",
    "        \n",
    "        return render_template('indext.html',pred='Air quality is acceptable.\\n But sensitive individuals may experience Minor health effects \\n  Your aqi is {x}Need to decrease {y}'.format(x = prediction ,y =z))   \n",
    "     \n",
    "    elif prediction>100 and prediction<=200:\n",
    "\n",
    "        return render_template('indext.html',pred='This range shows moderate air quality with impacts such as breathing discomfort for children and elderl people. \\n  People already suffering from lung disorders and heart disease may face problem.\\n Your aqi is {x}Need to decrease {y}'.format(x = prediction ,y =z))\n",
    "    elif prediction>300 and prediction<=400:\n",
    "        return render_template('indext.html',pred='This range shows very poor air quality and causes respiratory illness for a longer duration of exposure . \\n  Your aqi is {x}Need to decrease {y}'.format(x = prediction ,y =z))\n",
    "    elif prediction>400:   \n",
    "        return render_template('indext.html',pred='This is the severe range of AQI causing health impacts to normal and diseased people. It also causes severe health impacts on sensitive groups. \\n  Your aqi is {x}Need to decrease {y}'.format(x = prediction ,y =z))\n",
    "\n",
    "\n",
    "\n",
    "if __name__ == '__main__':\n",
    "    app.run()"
   ]
  },
  {
   "cell_type": "code",
   "execution_count": null,
   "id": "19702bb0",
   "metadata": {},
   "outputs": [],
   "source": []
  }
 ],
 "metadata": {
  "kernelspec": {
   "display_name": "Python 3 (ipykernel)",
   "language": "python",
   "name": "python3"
  },
  "language_info": {
   "codemirror_mode": {
    "name": "ipython",
    "version": 3
   },
   "file_extension": ".py",
   "mimetype": "text/x-python",
   "name": "python",
   "nbconvert_exporter": "python",
   "pygments_lexer": "ipython3",
   "version": "3.12.0"
  }
 },
 "nbformat": 4,
 "nbformat_minor": 5
}
